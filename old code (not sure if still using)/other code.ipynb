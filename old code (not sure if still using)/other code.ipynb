{
 "cells": [
  {
   "cell_type": "code",
   "execution_count": null,
   "metadata": {
    "collapsed": true
   },
   "outputs": [],
   "source": [
    "# import \"packages\" from flask\n",
    "##from flask_bootstrap import Bootstrap\n",
    "##from flask_wtf import FlaskForm\n",
    "##from wtforms import StringField, SubmitField\n",
    "##from wtforms.validators import DataRequired\n",
    "##from data import SONGS\n",
    "\n",
    "\n",
    "\n",
    "from modules import get_names, get_song, get_id\n",
    "\n",
    "\n",
    "\n",
    "# create a Flask instance\n",
    "\n",
    "app = Flask(__name__)\n",
    "\n",
    "#zonk was here\n",
    "#bria was here lol xd\n",
    "#hi\n",
    "# connects default URL to render index.html\n",
    "\n",
    "# Flask-WTF requires an enryption key - the string can be anything\n",
    "## app.config['SECRET_KEY'] = 'C2HWGVoMGfNTBsrYQg8EcMrdTimkZfAb'\n",
    "\n",
    "# Flask-Bootstrap requires this line\n",
    "## Bootstrap(app)\n",
    "\n",
    "# with Flask-WTF, each web form is represented by a class\n",
    "# \"NameForm\" can change; \"(FlaskForm)\" cannot\n",
    "# see the route for \"/\" and \"index.html\" to see how this is used\n",
    "## class NameForm(FlaskForm):\n",
    "### name = StringField('Name your favorite songs', validators=[DataRequired()])\n",
    "##submit = SubmitField('Submit')\n",
    "\n",
    "\n",
    "# all Flask routes below"
   ]
  }
 ],
 "metadata": {
  "kernelspec": {
   "display_name": "Python 3",
   "language": "python",
   "name": "python3"
  },
  "language_info": {
   "codemirror_mode": {
    "name": "ipython",
    "version": 2
   },
   "file_extension": ".py",
   "mimetype": "text/x-python",
   "name": "python",
   "nbconvert_exporter": "python",
   "pygments_lexer": "ipython2",
   "version": "2.7.6"
  }
 },
 "nbformat": 4,
 "nbformat_minor": 0
}